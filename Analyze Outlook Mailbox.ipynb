{
 "cells": [
  {
   "cell_type": "markdown",
   "metadata": {},
   "source": [
    "# Analyze Microsoft Outlook Mailbox \n",
    "Notebook creates a summary of the # of emails sent and received from Microsoft Outlook within a specific period defined - it uses the Bokeh to create the interactive visualization."
   ]
  },
  {
   "cell_type": "code",
   "execution_count": 3,
   "metadata": {},
   "outputs": [],
   "source": [
    "# Import all the modules required\n",
    "\n",
    "import pandas as pd\n",
    "from win32com.client import Dispatch\n",
    "import datetime as dt\n",
    "from bokeh.plotting import figure, output_file, show\n",
    "from bokeh.models import ColumnDataSource\n",
    "from bokeh.models.tools import HoverTool"
   ]
  },
  {
   "cell_type": "code",
   "execution_count": 4,
   "metadata": {
    "tags": []
   },
   "outputs": [
    {
     "output_type": "stream",
     "name": "stdout",
     "text": "[ReceivedTime] >= '06/03/2020 15:51 PM'\n"
    }
   ],
   "source": [
    "# Calculate specific date/time\n",
    "last24Hours = dt.datetime.now() - dt.timedelta(hours = 24)\n",
    "lastWeek = dt.datetime.now() - dt.timedelta(days = 7)\n",
    "lastMonth = dt.datetime.now() - dt.timedelta(days = 30)\n",
    "lastTwoMonths = dt.datetime.now() - dt.timedelta(days = 60)\n",
    "\n",
    "# Convert the text into a format that Outlook understands.\n",
    "last24HourMessages = \"[ReceivedTime] >= '\" +last24Hours.strftime('%m/%d/%Y %H:%M %p')+\"'\"\n",
    "lastWeek = \"[ReceivedTime] >= '\" +lastWeek.strftime('%m/%d/%Y %H:%M %p')+\"'\"\n",
    "lastMonth = \"[ReceivedTime] >= '\" +lastMonth.strftime('%m/%d/%Y %H:%M %p')+\"'\"\n",
    "lastTwoMonths = \"[ReceivedTime] >= '\" +lastTwoMonths.strftime('%m/%d/%Y %H:%M %p')+\"'\"\n",
    "fromThisMorning = \"[ReceivedTime] >= '\" +dt.datetime.now().strftime('%m/%d/%Y ')+\"7:00 AM'\"\n",
    "\n",
    "# Test print out of the output\n",
    "print(lastMonth)"
   ]
  },
  {
   "cell_type": "code",
   "execution_count": 5,
   "metadata": {
    "tags": []
   },
   "outputs": [],
   "source": [
    "# Use this to change the filter based on the time restriction filters above.\n",
    "# This will be used in the code below as the main filter for dates when the code runs\n",
    "emailfilter = lastMonth\n",
    "\n",
    "## Connect to Inbox\n",
    "outlook = Dispatch(\"Outlook.Application\").GetNamespace(\"MAPI\")\n",
    "\n",
    "# \"6\" refers to the index of a folder. 6 is the inbox\n",
    "inbox = outlook.GetDefaultFolder('6')\n",
    "sent = outlook.GetDefaultFolder('5')\n",
    "\n",
    "# all inbox in the lastHourDateTime (above)\n",
    "inbox_emails = inbox.Items.restrict(emailfilter)\n",
    "sent_emails = sent.Items.restrict(emailfilter)\n",
    "\n",
    "inbox_from = []\n",
    "inbox_mail_wc = []\n",
    "\n",
    "sent_to = []\n",
    "sent_mail_wc = []\n",
    "\n",
    "## iterate through list of emails in inbox, and filter based on message class 43 = email.\n",
    "\n",
    "for msg in inbox_emails:\n",
    "    if msg.Class == 43:\n",
    "        # cast the object as a string\n",
    "        inbox_from.append(str(msg.Sender))\n",
    "        inbox_mail_wc.append(len(str(msg.Body).split()))\n",
    "\n",
    "inbox_df = pd.DataFrame(list(zip(inbox_from, inbox_mail_wc)))\n",
    "inbox_df.columns = ['Inbox_from','Inbox_wc']\n",
    "\n",
    "## Sent email section\n",
    "\n",
    "for msg in sent_emails:\n",
    "    if msg.Class == 43:\n",
    "        # cast the object as a string\n",
    "        sent_to.append(str(msg.To))\n",
    "        sent_mail_wc.append(len(str(msg.Body).split()))\n",
    "\n",
    "sent_df = pd.DataFrame(list(zip(sent_to, sent_mail_wc)))\n",
    "sent_df.columns = ['Sent_to','Sent_wc']\n",
    "\n",
    "\n",
    "# This code uses aggregates and produces new column names with count and sum, then sorting the values based on nlargest\n",
    "inbox_summary = inbox_df.groupby(['Inbox_from'])['Inbox_wc'].agg(InboxEmailCount=('Inbox_from','count'), InboxWordCount=('Inbox_wc','sum')).sort_values(['InboxEmailCount','InboxWordCount'],ascending=False).nlargest(200,'InboxEmailCount')\n",
    "\n",
    "sent_summary = sent_df.groupby(['Sent_to'])['Sent_wc'].agg(SentEmailCount=('Sent_to','count'), SentWordCount=('Sent_wc','sum')).sort_values(['SentEmailCount','SentWordCount'],ascending=False).nlargest(200,'SentEmailCount')\n"
   ]
  },
  {
   "cell_type": "code",
   "execution_count": 6,
   "metadata": {},
   "outputs": [],
   "source": [
    "inboxsource = ColumnDataSource(inbox_summary)\n",
    "sentsource = ColumnDataSource(sent_summary)\n",
    "\n",
    "# Create an interactive HTML report\n",
    "output_file('OutputReport.html')\n",
    "\n",
    "p = figure(plot_width=800, plot_height=600)\n",
    "\n",
    "r1 = p.circle(x='InboxEmailCount', y='InboxWordCount',\n",
    "         source=inboxsource,\n",
    "         size=8, color='blue', legend_label='Inbox Emails')\n",
    "\n",
    "r2 = p.square(x='SentEmailCount', y='SentWordCount',\n",
    "         source=sentsource,\n",
    "         size=8, color='orange', legend_label='Sent Emails')\n",
    "\n",
    "\n",
    "p.title.text = 'Outlook Inbox and Sent Email Summary from: ' + emailfilter\n",
    "p.xaxis.axis_label = 'Email Count'\n",
    "p.yaxis.axis_label = 'Word Count'\n",
    "\n",
    "p.add_tools(HoverTool(renderers=[r1], tooltips=[\n",
    "    ('From', '@Inbox_from'),\n",
    "    ('EmailCount', '@InboxEmailCount'),\n",
    "    ('WordCount', '@InboxWordCount')\n",
    "    ]))\n",
    "\n",
    "p.add_tools(HoverTool(renderers=[r2], tooltips=[\n",
    "    ('To', '@Sent_to'),\n",
    "    ('EmailCount', '@SentEmailCount'),\n",
    "    ('WordCount', '@SentWordCount')\n",
    "    ]))\n",
    "\n",
    "show(p)"
   ]
  }
 ],
 "metadata": {
  "kernelspec": {
   "display_name": "Python 3",
   "language": "python",
   "name": "python3"
  },
  "language_info": {
   "codemirror_mode": {
    "name": "ipython",
    "version": 3
   },
   "file_extension": ".py",
   "mimetype": "text/x-python",
   "name": "python",
   "nbconvert_exporter": "python",
   "pygments_lexer": "ipython3",
   "version": "3.7.7-final"
  }
 },
 "nbformat": 4,
 "nbformat_minor": 4
}